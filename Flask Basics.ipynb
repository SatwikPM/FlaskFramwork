{
 "cells": [
  {
   "cell_type": "markdown",
   "metadata": {},
   "source": [
    "# Flask Framework"
   ]
  },
  {
   "cell_type": "markdown",
   "metadata": {},
   "source": [
    "Flask is a web application framework written in Python. Armin Ronacher, who leads an international group of Python enthusiasts named Pocco, develops it. Flask is based on Werkzeug WSGI toolkit and Jinja2 template engine. Both are Pocco projects."
   ]
  },
  {
   "cell_type": "markdown",
   "metadata": {},
   "source": [
    "### What is Web Framework?"
   ]
  },
  {
   "cell_type": "markdown",
   "metadata": {},
   "source": [
    "Web Application Framework or simply Web Framework represents a collection of libraries and modules that enables a web application developer to write applications without having to bother about low-level details such as protocols, thread management etc."
   ]
  },
  {
   "cell_type": "markdown",
   "metadata": {},
   "source": [
    "### What is Flask?"
   ]
  },
  {
   "cell_type": "markdown",
   "metadata": {},
   "source": [
    "Flask is a web application framework written in Python. It is developed by Armin Ronacher, who leads an international group of Python enthusiasts named Pocco. Flask is based on the Werkzeug WSGI toolkit and Jinja2 template engine. Both are Pocco projects."
   ]
  },
  {
   "cell_type": "markdown",
   "metadata": {},
   "source": [
    "### WSGI"
   ]
  },
  {
   "cell_type": "markdown",
   "metadata": {},
   "source": [
    "Web Server Gateway Interface (WSGI) has been adopted as a standard for Python web application development. WSGI is a specification for a universal interface between the web server and the web applications."
   ]
  },
  {
   "cell_type": "markdown",
   "metadata": {},
   "source": [
    "### Werkzeug"
   ]
  },
  {
   "cell_type": "markdown",
   "metadata": {},
   "source": [
    "It is a WSGI toolkit, which implements requests, response objects, and other utility functions. This enables building a web framework on top of it. The Flask framework uses Werkzeug as one of its bases"
   ]
  },
  {
   "cell_type": "markdown",
   "metadata": {},
   "source": [
    "### Jinja2"
   ]
  },
  {
   "cell_type": "markdown",
   "metadata": {},
   "source": [
    "Jinja2 is a popular templating engine for Python. A web templating system combines a template with a certain data source to render dynamic web pages."
   ]
  },
  {
   "cell_type": "markdown",
   "metadata": {},
   "source": [
    "Create a Virtual Envi for development\n",
    "#conda create -n flask python=3.6 anaconda"
   ]
  },
  {
   "cell_type": "code",
   "execution_count": 1,
   "metadata": {},
   "outputs": [],
   "source": [
    "#We are now ready to install Flask in this environment.\n",
    "#pip install Flask"
   ]
  },
  {
   "cell_type": "code",
   "execution_count": 17,
   "metadata": {},
   "outputs": [
    {
     "name": "stdout",
     "output_type": "stream",
     "text": [
      " * Serving Flask app \"__main__\" (lazy loading)\n",
      " * Environment: production\n",
      "   WARNING: This is a development server. Do not use it in a production deployment.\n",
      "   Use a production WSGI server instead.\n",
      " * Debug mode: off\n"
     ]
    },
    {
     "name": "stderr",
     "output_type": "stream",
     "text": [
      " * Running on http://127.0.0.1:5000/ (Press CTRL+C to quit)\n",
      "127.0.0.1 - - [11/May/2020 08:11:29] \"\u001b[37mGET / HTTP/1.1\u001b[0m\" 200 -\n"
     ]
    }
   ],
   "source": [
    "# lets try with very first Program\n",
    "from flask import Flask  \n",
    "  \n",
    "app = Flask(__name__) #creating the Flask class object   \n",
    " \n",
    "@app.route('/') #decorator drfines the   \n",
    "def home():  \n",
    "    return \"hello, this is our first flask website\";  \n",
    "  \n",
    "if __name__ =='__main__':  \n",
    "    app.run(debug = False)  "
   ]
  },
  {
   "cell_type": "markdown",
   "metadata": {},
   "source": [
    "Explanation of the above program:\n",
    "\n",
    "Importing flask module in the project is mandatory. An object of Flask class is our WSGI application.\n"
   ]
  },
  {
   "cell_type": "markdown",
   "metadata": {},
   "source": [
    "We need to pass the name of the current module, i.e. __name__ as the argument into the Flask constructor. \n",
    "The route() function of the Flask class defines the URL mapping of the associated function. The syntax is given below."
   ]
  },
  {
   "cell_type": "markdown",
   "metadata": {},
   "source": [
    "app.route(rule, options)  "
   ]
  },
  {
   "cell_type": "raw",
   "metadata": {},
   "source": [
    "It accepts the following parameters. \n",
    "rule: It represents the URL binding with the function.\n",
    "options: It represents the list of parameters to be associated with the rule object"
   ]
  },
  {
   "cell_type": "raw",
   "metadata": {},
   "source": [
    "The / URL is bound to the main function which is responsible for returning the server response. It can return a string to be printed on the browser's window or we can use the HTML template to return the HTML file as a response from the server"
   ]
  },
  {
   "cell_type": "markdown",
   "metadata": {},
   "source": [
    "The run method of the Flask class is used to run the flask application on the local development server.\n",
    "The syntax is given below.\n",
    "\n",
    "app.run(host, port, debug, options)  "
   ]
  },
  {
   "cell_type": "raw",
   "metadata": {},
   "source": [
    "host\n",
    "The default hostname is 127.0.0.1, i.e. localhost.\n",
    "port\n",
    "The port number to which the server is listening to. The default port number is 5000.\n",
    "debug\n",
    "The default is false. It provides debug information if it is set to true.\n",
    "options\n",
    "It contains the information to be forwarded to the server."
   ]
  },
  {
   "cell_type": "markdown",
   "metadata": {},
   "source": [
    "## Debug mode"
   ]
  },
  {
   "cell_type": "raw",
   "metadata": {},
   "source": [
    "\n",
    "A Flask application is started by calling the run() method. However, while the application is under development, it should be restarted manually for each change in the code. To avoid this inconvenience, enable debug support. The server will then reload itself if the code changes. It will also provide a useful debugger to track the errors if any, in the application."
   ]
  },
  {
   "cell_type": "raw",
   "metadata": {},
   "source": [
    "The Debug mode is enabled by setting the debug property of the application object to True before running or passing the debug parameter to the run() method.\n",
    "app.debug = True\n",
    "app.run()\n",
    "app.run(debug = True)"
   ]
  },
  {
   "cell_type": "markdown",
   "metadata": {},
   "source": [
    "### Flask App routing"
   ]
  },
  {
   "cell_type": "markdown",
   "metadata": {},
   "source": [
    "App routing is used to map the specific URL with the associated function that is intended to perform some task.It is used to access some particular page like Flask Tutorial in the web application."
   ]
  },
  {
   "cell_type": "markdown",
   "metadata": {},
   "source": [
    "In our first application, the URL ('/') is associated with the home function that returns a particular string displayed on the web page. "
   ]
  },
  {
   "cell_type": "code",
   "execution_count": 2,
   "metadata": {},
   "outputs": [
    {
     "name": "stdout",
     "output_type": "stream",
     "text": [
      " * Serving Flask app \"__main__\" (lazy loading)\n",
      " * Environment: production\n",
      "   WARNING: This is a development server. Do not use it in a production deployment.\n",
      "   Use a production WSGI server instead.\n",
      " * Debug mode: off\n"
     ]
    },
    {
     "name": "stderr",
     "output_type": "stream",
     "text": [
      " * Running on http://127.0.0.1:5000/ (Press CTRL+C to quit)\n",
      "127.0.0.1 - - [11/May/2020 10:28:28] \"\u001b[33mGET / HTTP/1.1\u001b[0m\" 404 -\n",
      "127.0.0.1 - - [11/May/2020 10:28:37] \"\u001b[37mGET /home HTTP/1.1\u001b[0m\" 200 -\n"
     ]
    }
   ],
   "source": [
    "from flask import Flask  \n",
    "app = Flask(__name__)  \n",
    " \n",
    "@app.route('/home')  \n",
    "def home():  \n",
    "    return \"hello, welcome to our website\";  \n",
    "  \n",
    "if __name__ ==\"__main__\":  \n",
    "    app.run(debug = False)  "
   ]
  },
  {
   "cell_type": "code",
   "execution_count": 29,
   "metadata": {},
   "outputs": [
    {
     "name": "stdout",
     "output_type": "stream",
     "text": [
      " * Serving Flask app \"__main__\" (lazy loading)\n",
      " * Environment: production\n",
      "   WARNING: This is a development server. Do not use it in a production deployment.\n",
      "   Use a production WSGI server instead.\n",
      " * Debug mode: off\n"
     ]
    },
    {
     "name": "stderr",
     "output_type": "stream",
     "text": [
      " * Running on http://127.0.0.1:5000/ (Press CTRL+C to quit)\n"
     ]
    }
   ],
   "source": [
    "#%%writefile app.py\n",
    "from flask import Flask  \n",
    "app = Flask(__name__)  \n",
    " \n",
    "@app.route('/home/<name>')  \n",
    "def home(name):  \n",
    "    return \"hello,\"+name;  \n",
    "  \n",
    "if __name__ ==\"__main__\":  \n",
    "    app.run(debug = False)  "
   ]
  },
  {
   "cell_type": "markdown",
   "metadata": {},
   "source": [
    "The converter can also be used in the URL to map the specified variable to the particular data type. For example, we can provide the integers or float like age or salary respectively. "
   ]
  },
  {
   "cell_type": "code",
   "execution_count": 24,
   "metadata": {},
   "outputs": [
    {
     "name": "stdout",
     "output_type": "stream",
     "text": [
      " * Serving Flask app \"__main__\" (lazy loading)\n",
      " * Environment: production\n",
      "   WARNING: This is a development server. Do not use it in a production deployment.\n",
      "   Use a production WSGI server instead.\n",
      " * Debug mode: off\n"
     ]
    },
    {
     "name": "stderr",
     "output_type": "stream",
     "text": [
      " * Running on http://127.0.0.1:5000/ (Press CTRL+C to quit)\n"
     ]
    }
   ],
   "source": [
    "from flask import Flask  \n",
    "app = Flask(__name__)  \n",
    " \n",
    "@app.route('/home/<int:age>')  \n",
    "def home(age):  \n",
    "    return \"Age = %d\"%age;  \n",
    "  \n",
    "if __name__ ==\"__main__\":  \n",
    "    app.run(debug = False)  "
   ]
  },
  {
   "cell_type": "raw",
   "metadata": {},
   "source": [
    "The following converters are used to convert the default string type to the associated data type. \n",
    "string: default\n",
    "int: used to convert the string to the integer\n",
    "float: used to convert the string to the float.\n",
    "path: It can accept the slashes given in the URL. "
   ]
  },
  {
   "cell_type": "markdown",
   "metadata": {},
   "source": [
    "### The add_url_rule() function"
   ]
  },
  {
   "cell_type": "markdown",
   "metadata": {},
   "source": [
    "There is one more approach to perform routing for the flask web application that can be done by using the add_url() function of the Flask class. The syntax to use this function is given below. "
   ]
  },
  {
   "cell_type": "raw",
   "metadata": {},
   "source": [
    "add_url_rule(<url rule>, <endpoint>, <view function>)  "
   ]
  },
  {
   "cell_type": "code",
   "execution_count": 26,
   "metadata": {},
   "outputs": [
    {
     "name": "stdout",
     "output_type": "stream",
     "text": [
      " * Serving Flask app \"__main__\" (lazy loading)\n",
      " * Environment: production\n",
      "   WARNING: This is a development server. Do not use it in a production deployment.\n",
      "   Use a production WSGI server instead.\n",
      " * Debug mode: off\n"
     ]
    },
    {
     "name": "stderr",
     "output_type": "stream",
     "text": [
      " * Running on http://127.0.0.1:5000/ (Press CTRL+C to quit)\n"
     ]
    }
   ],
   "source": [
    "from flask import Flask  \n",
    "app = Flask(__name__)  \n",
    "  \n",
    "def about():  \n",
    "    return \"This is about page\";  \n",
    "  \n",
    "app.add_url_rule(\"/about\",\"about\",about)  \n",
    "  \n",
    "if __name__ ==\"__main__\":  \n",
    "    app.run(debug = False)  "
   ]
  },
  {
   "cell_type": "code",
   "execution_count": 27,
   "metadata": {},
   "outputs": [
    {
     "name": "stdout",
     "output_type": "stream",
     "text": [
      " * Serving Flask app \"__main__\" (lazy loading)\n",
      " * Environment: production\n",
      "   WARNING: This is a development server. Do not use it in a production deployment.\n",
      "   Use a production WSGI server instead.\n",
      " * Debug mode: off\n"
     ]
    },
    {
     "name": "stderr",
     "output_type": "stream",
     "text": [
      " * Running on http://127.0.0.1:5000/ (Press CTRL+C to quit)\n"
     ]
    }
   ],
   "source": [
    "from flask import Flask\n",
    "app = Flask(__name__)\n",
    "\n",
    "@app.route('/blog/<int:postID>')\n",
    "def show_blog(postID):\n",
    "    return 'Blog Number %d' % postID\n",
    "\n",
    "@app.route('/rev/<float:revNo>')\n",
    "def revision(revNo):\n",
    "    return 'Revision Number %f' % revNo\n",
    "\n",
    "if __name__ == '__main__':\n",
    "    app.run(debug = False)"
   ]
  },
  {
   "cell_type": "raw",
   "metadata": {},
   "source": [
    "Run the above code from Python Shell. Visit the URL http://127.0.0.1:5000/http:/rev/1.1 in the browser.\n",
    "The given number is used as argument to the revision() function. The browser displays the following output −"
   ]
  },
  {
   "cell_type": "markdown",
   "metadata": {},
   "source": [
    "### Flask URL Building"
   ]
  },
  {
   "cell_type": "raw",
   "metadata": {},
   "source": [
    "The url_for() function is used to build a URL to the specific function dynamically. The first argument is the name of the specified function, and then we can pass any number of keyword argument corresponding to the variable part of the URL."
   ]
  },
  {
   "cell_type": "raw",
   "metadata": {},
   "source": [
    "This function is useful in the sense that we can avoid hard-coding the URLs into the templates by dynamically building them using this function.\n",
    "Consider the following python flask script."
   ]
  },
  {
   "cell_type": "code",
   "execution_count": 28,
   "metadata": {},
   "outputs": [
    {
     "name": "stdout",
     "output_type": "stream",
     "text": [
      " * Serving Flask app \"__main__\" (lazy loading)\n",
      " * Environment: production\n",
      "   WARNING: This is a development server. Do not use it in a production deployment.\n",
      "   Use a production WSGI server instead.\n",
      " * Debug mode: off\n"
     ]
    },
    {
     "name": "stderr",
     "output_type": "stream",
     "text": [
      " * Running on http://127.0.0.1:5000/ (Press CTRL+C to quit)\n"
     ]
    }
   ],
   "source": [
    "\n",
    "from flask import *  \n",
    "   \n",
    "app = Flask(__name__)  \n",
    "  \n",
    "@app.route('/admin')  \n",
    "def admin():  \n",
    "    return 'admin'  \n",
    "  \n",
    "@app.route('/librarion')  \n",
    "def librarion():  \n",
    "    return 'librarion'  \n",
    "  \n",
    "@app.route('/student')  \n",
    "def student():  \n",
    "    return 'student'  \n",
    "  \n",
    "@app.route('/user/<name>')  \n",
    "def user(name):  \n",
    "    if name == 'admin':  \n",
    "        return redirect(url_for('admin'))  \n",
    "    if name == 'librarion':  \n",
    "        return redirect(url_for('librarion'))  \n",
    "    if name == 'student':  \n",
    "        return redirect(url_for('student'))  \n",
    "if __name__ =='__main__':  \n",
    "    app.run(debug = False)  "
   ]
  },
  {
   "cell_type": "markdown",
   "metadata": {},
   "source": [
    "Benefits of the Dynamic URL Building\n",
    "1. It avoids hard coding of the URLs. \n",
    "2. We can change the URLs dynamically instead of remembering the manually changed hard-coded URLs.\n",
    "3. URL building handles the escaping of special characters and Unicode data transparently.\n",
    "4. The generated paths are always absolute, avoiding unexpected behavior of relative paths in browsers.\n",
    "5. If your application is placed outside the URL root, for example, in /myapplication instead of /, url_for() properly handles that for you."
   ]
  },
  {
   "cell_type": "markdown",
   "metadata": {},
   "source": [
    "### Flask HTTP methods"
   ]
  },
  {
   "cell_type": "markdown",
   "metadata": {},
   "source": [
    "HTTP is the hypertext transfer protocol which is considered as the foundation of the data transfer in the world wide web. All web frameworks including flask need to provide several HTTP methods for data communication. "
   ]
  },
  {
   "cell_type": "raw",
   "metadata": {},
   "source": [
    "GET\n",
    "It is the most common method which can be used to send data in the unencrypted form to the server.\n",
    "HEAD\n",
    "It is similar to the GET but used without the response body.\n",
    "POST\n",
    "It is used to send the form data to the server. The server does not cache the data transmitted using the post method.\n",
    "PUT\n",
    "It is used to replace all the current representation of the target resource with the uploaded content.\n",
    "DELETE\n",
    "It is used to delete all the current representation of the target resource specified in the URL."
   ]
  },
  {
   "cell_type": "markdown",
   "metadata": {},
   "source": [
    "Important Note\n",
    "1. We can specify which HTTP method to be used to handle the requests in the route() function of the Flask class. By default, the requests are handled by the GET() method. "
   ]
  },
  {
   "cell_type": "markdown",
   "metadata": {},
   "source": [
    "### POST Method "
   ]
  },
  {
   "cell_type": "markdown",
   "metadata": {},
   "source": [
    "\n",
    "To handle the POST requests at the server, let us first create a form to get some data at the client side from the user, and we will try to access this data on the server by using the POST request. "
   ]
  },
  {
   "cell_type": "markdown",
   "metadata": {},
   "source": [
    "By default, the Flask route responds to the GET requests. However, this preference can be altered by providing methods argument to route() decorator."
   ]
  },
  {
   "cell_type": "markdown",
   "metadata": {},
   "source": [
    "In order to demonstrate the use of POST method in URL routing, first let us create an HTML form and use the POST method to send form data to a URL."
   ]
  },
  {
   "cell_type": "raw",
   "metadata": {},
   "source": [
    "#login.html \n",
    "\n",
    "<html>\n",
    "   <body>\n",
    "      <form action = \"http://localhost:5000/login\" method = \"post\">\n",
    "         <p>Enter Name:</p>\n",
    "         <p><input type = \"text\" name = \"nm\" /></p>\n",
    "         <p><input type = \"submit\" value = \"submit\" /></p>\n",
    "      </form>\n",
    "   </body>\n",
    "</html>"
   ]
  },
  {
   "cell_type": "code",
   "execution_count": 4,
   "metadata": {},
   "outputs": [
    {
     "name": "stdout",
     "output_type": "stream",
     "text": [
      " * Serving Flask app \"__main__\" (lazy loading)\n",
      " * Environment: production\n",
      "   WARNING: This is a development server. Do not use it in a production deployment.\n",
      "   Use a production WSGI server instead.\n",
      " * Debug mode: off\n"
     ]
    },
    {
     "name": "stderr",
     "output_type": "stream",
     "text": [
      " * Running on http://127.0.0.1:5000/ (Press CTRL+C to quit)\n",
      "127.0.0.1 - - [11/May/2020 10:32:55] \"\u001b[32mPOST /login HTTP/1.1\u001b[0m\" 302 -\n",
      "127.0.0.1 - - [11/May/2020 10:32:55] \"\u001b[37mGET /success/Satwik HTTP/1.1\u001b[0m\" 200 -\n"
     ]
    }
   ],
   "source": [
    "from flask import Flask, redirect, url_for, request\n",
    "app = Flask(__name__)\n",
    "\n",
    "@app.route('/success/<name>')\n",
    "def success(name):\n",
    "    return 'welcome %s' % name\n",
    "\n",
    "@app.route('/login',methods = ['POST', 'GET'])\n",
    "def login():\n",
    "    if request.method == 'POST':\n",
    "        user = request.form['nm']\n",
    "        return redirect(url_for('success',name = user))\n",
    "    else:\n",
    "        user = request.args.get('nm')\n",
    "        return redirect(url_for('success',name = user))\n",
    "\n",
    "if __name__ == '__main__':\n",
    "    app.run(debug = False)"
   ]
  },
  {
   "cell_type": "markdown",
   "metadata": {},
   "source": [
    "## Flask Templates"
   ]
  },
  {
   "cell_type": "markdown",
   "metadata": {},
   "source": [
    "In the previous examples, we have returned the simple string as the response from the view function. Although, flask facilitates us to return the response in the form of HTML templates. In this part, we will go through the ways using which we can return the HTML response from the web applications. "
   ]
  },
  {
   "cell_type": "code",
   "execution_count": 6,
   "metadata": {},
   "outputs": [
    {
     "name": "stdout",
     "output_type": "stream",
     "text": [
      " * Serving Flask app \"__main__\" (lazy loading)\n",
      " * Environment: production\n",
      "   WARNING: This is a development server. Do not use it in a production deployment.\n",
      "   Use a production WSGI server instead.\n",
      " * Debug mode: off\n"
     ]
    },
    {
     "name": "stderr",
     "output_type": "stream",
     "text": [
      " * Running on http://127.0.0.1:5000/ (Press CTRL+C to quit)\n",
      "127.0.0.1 - - [11/May/2020 10:44:54] \"\u001b[37mGET / HTTP/1.1\u001b[0m\" 200 -\n"
     ]
    }
   ],
   "source": [
    "#The following flask script contains a view function, i.e., the message() which is associated with the URL '/'. Instead of returning a simple plain string as a message, it returns a message with <h1> tag attached to it using HTML.\n",
    "from flask import *  \n",
    "app = Flask(__name__)  \n",
    "@app.route('/')  \n",
    "def message():  \n",
    "      return \"<html><body><h1>Hi, welcome to the website</h1></body></html>\"  \n",
    "if __name__ == '__main__':  \n",
    "   app.run(debug = False)  "
   ]
  },
  {
   "cell_type": "markdown",
   "metadata": {},
   "source": [
    "### Rendering external HTML files "
   ]
  },
  {
   "cell_type": "markdown",
   "metadata": {},
   "source": [
    "\n",
    "Flask facilitates us to render the external HTML file instead of hardcoding the HTML in the view function. Here, we can take advantage of the jinja2 template engine on which the flask is based.\n",
    "Flask provides us the render_template() function which can be used to render the external HTML file to be returned as the response from the view function. "
   ]
  },
  {
   "cell_type": "code",
   "execution_count": 8,
   "metadata": {},
   "outputs": [
    {
     "name": "stdout",
     "output_type": "stream",
     "text": [
      " * Serving Flask app \"__main__\" (lazy loading)\n",
      " * Environment: production\n",
      "   WARNING: This is a development server. Do not use it in a production deployment.\n",
      "   Use a production WSGI server instead.\n",
      " * Debug mode: off\n"
     ]
    },
    {
     "name": "stderr",
     "output_type": "stream",
     "text": [
      " * Running on http://127.0.0.1:5000/ (Press CTRL+C to quit)\n",
      "[2020-05-11 10:58:22,926] ERROR in app: Exception on / [GET]\n",
      "Traceback (most recent call last):\n",
      "  File \"C:\\Users\\satwi\\anaconda3\\envs\\flask\\lib\\site-packages\\flask\\app.py\", line 2447, in wsgi_app\n",
      "    response = self.full_dispatch_request()\n",
      "  File \"C:\\Users\\satwi\\anaconda3\\envs\\flask\\lib\\site-packages\\flask\\app.py\", line 1952, in full_dispatch_request\n",
      "    rv = self.handle_user_exception(e)\n",
      "  File \"C:\\Users\\satwi\\anaconda3\\envs\\flask\\lib\\site-packages\\flask\\app.py\", line 1821, in handle_user_exception\n",
      "    reraise(exc_type, exc_value, tb)\n",
      "  File \"C:\\Users\\satwi\\anaconda3\\envs\\flask\\lib\\site-packages\\flask\\_compat.py\", line 39, in reraise\n",
      "    raise value\n",
      "  File \"C:\\Users\\satwi\\anaconda3\\envs\\flask\\lib\\site-packages\\flask\\app.py\", line 1950, in full_dispatch_request\n",
      "    rv = self.dispatch_request()\n",
      "  File \"C:\\Users\\satwi\\anaconda3\\envs\\flask\\lib\\site-packages\\flask\\app.py\", line 1936, in dispatch_request\n",
      "    return self.view_functions[rule.endpoint](**req.view_args)\n",
      "  File \"<ipython-input-8-6a9cd50db477>\", line 6, in message\n",
      "    return render_template('login.html')\n",
      "  File \"C:\\Users\\satwi\\anaconda3\\envs\\flask\\lib\\site-packages\\flask\\templating.py\", line 138, in render_template\n",
      "    ctx.app.jinja_env.get_or_select_template(template_name_or_list),\n",
      "  File \"C:\\Users\\satwi\\anaconda3\\envs\\flask\\lib\\site-packages\\jinja2\\environment.py\", line 930, in get_or_select_template\n",
      "    return self.get_template(template_name_or_list, parent, globals)\n",
      "  File \"C:\\Users\\satwi\\anaconda3\\envs\\flask\\lib\\site-packages\\jinja2\\environment.py\", line 883, in get_template\n",
      "    return self._load_template(name, self.make_globals(globals))\n",
      "  File \"C:\\Users\\satwi\\anaconda3\\envs\\flask\\lib\\site-packages\\jinja2\\environment.py\", line 857, in _load_template\n",
      "    template = self.loader.load(self, name, globals)\n",
      "  File \"C:\\Users\\satwi\\anaconda3\\envs\\flask\\lib\\site-packages\\jinja2\\loaders.py\", line 115, in load\n",
      "    source, filename, uptodate = self.get_source(environment, name)\n",
      "  File \"C:\\Users\\satwi\\anaconda3\\envs\\flask\\lib\\site-packages\\flask\\templating.py\", line 60, in get_source\n",
      "    return self._get_source_fast(environment, template)\n",
      "  File \"C:\\Users\\satwi\\anaconda3\\envs\\flask\\lib\\site-packages\\flask\\templating.py\", line 89, in _get_source_fast\n",
      "    raise TemplateNotFound(template)\n",
      "jinja2.exceptions.TemplateNotFound: login.html\n",
      "127.0.0.1 - - [11/May/2020 10:58:22] \"\u001b[35m\u001b[1mGET / HTTP/1.1\u001b[0m\" 500 -\n",
      "[2020-05-11 10:58:25,613] ERROR in app: Exception on / [GET]\n",
      "Traceback (most recent call last):\n",
      "  File \"C:\\Users\\satwi\\anaconda3\\envs\\flask\\lib\\site-packages\\flask\\app.py\", line 2447, in wsgi_app\n",
      "    response = self.full_dispatch_request()\n",
      "  File \"C:\\Users\\satwi\\anaconda3\\envs\\flask\\lib\\site-packages\\flask\\app.py\", line 1952, in full_dispatch_request\n",
      "    rv = self.handle_user_exception(e)\n",
      "  File \"C:\\Users\\satwi\\anaconda3\\envs\\flask\\lib\\site-packages\\flask\\app.py\", line 1821, in handle_user_exception\n",
      "    reraise(exc_type, exc_value, tb)\n",
      "  File \"C:\\Users\\satwi\\anaconda3\\envs\\flask\\lib\\site-packages\\flask\\_compat.py\", line 39, in reraise\n",
      "    raise value\n",
      "  File \"C:\\Users\\satwi\\anaconda3\\envs\\flask\\lib\\site-packages\\flask\\app.py\", line 1950, in full_dispatch_request\n",
      "    rv = self.dispatch_request()\n",
      "  File \"C:\\Users\\satwi\\anaconda3\\envs\\flask\\lib\\site-packages\\flask\\app.py\", line 1936, in dispatch_request\n",
      "    return self.view_functions[rule.endpoint](**req.view_args)\n",
      "  File \"<ipython-input-8-6a9cd50db477>\", line 6, in message\n",
      "    return render_template('login.html')\n",
      "  File \"C:\\Users\\satwi\\anaconda3\\envs\\flask\\lib\\site-packages\\flask\\templating.py\", line 138, in render_template\n",
      "    ctx.app.jinja_env.get_or_select_template(template_name_or_list),\n",
      "  File \"C:\\Users\\satwi\\anaconda3\\envs\\flask\\lib\\site-packages\\jinja2\\environment.py\", line 930, in get_or_select_template\n",
      "    return self.get_template(template_name_or_list, parent, globals)\n",
      "  File \"C:\\Users\\satwi\\anaconda3\\envs\\flask\\lib\\site-packages\\jinja2\\environment.py\", line 883, in get_template\n",
      "    return self._load_template(name, self.make_globals(globals))\n",
      "  File \"C:\\Users\\satwi\\anaconda3\\envs\\flask\\lib\\site-packages\\jinja2\\environment.py\", line 857, in _load_template\n",
      "    template = self.loader.load(self, name, globals)\n",
      "  File \"C:\\Users\\satwi\\anaconda3\\envs\\flask\\lib\\site-packages\\jinja2\\loaders.py\", line 115, in load\n",
      "    source, filename, uptodate = self.get_source(environment, name)\n",
      "  File \"C:\\Users\\satwi\\anaconda3\\envs\\flask\\lib\\site-packages\\flask\\templating.py\", line 60, in get_source\n",
      "    return self._get_source_fast(environment, template)\n",
      "  File \"C:\\Users\\satwi\\anaconda3\\envs\\flask\\lib\\site-packages\\flask\\templating.py\", line 89, in _get_source_fast\n",
      "    raise TemplateNotFound(template)\n",
      "jinja2.exceptions.TemplateNotFound: login.html\n",
      "127.0.0.1 - - [11/May/2020 10:58:25] \"\u001b[35m\u001b[1mGET / HTTP/1.1\u001b[0m\" 500 -\n"
     ]
    }
   ],
   "source": [
    "from flask import *  \n",
    "app = Flask(__name__)  \n",
    " \n",
    "@app.route('/')  \n",
    "def message():  \n",
    "      return render_template('login.html')  \n",
    "if __name__ == '__main__':  \n",
    "   app.run(debug = False)  "
   ]
  },
  {
   "cell_type": "markdown",
   "metadata": {},
   "source": [
    "The path of our script file script.py is C:\\flask whereas the path of the HTML template is C:\\flask\\templates.\n",
    "Application Directory\n",
    "1. script.py\n",
    "2. templates\n",
    "3. message.html"
   ]
  },
  {
   "cell_type": "markdown",
   "metadata": {},
   "source": [
    "### Delimiters"
   ]
  },
  {
   "cell_type": "markdown",
   "metadata": {},
   "source": [
    "Jinga 2 template engine provides some delimiters which can be used in the HTML to make it capable of dynamic data representation. The template system provides some HTML syntax which are placeholders for variables and expressions that are replaced by their actual values when the template is rendered. \n",
    "The jinga2 template engine provides the following delimiters to escape from the HTML.\n",
    "1. {% ... %} for statements\n",
    "2. {{ ... }} for expressions to print to the template output\n",
    "3. {# ... #} for the comments that are not included in the template output \n",
    "4.  /# ... ## for line statements"
   ]
  },
  {
   "cell_type": "raw",
   "metadata": {},
   "source": [
    "#message.html\n",
    "\n",
    "<html>  \n",
    "<head>  \n",
    "<title>Message</title>  \n",
    "</head>  \n",
    "<body>  \n",
    "<h1>hi, {{ name }}</h1>  \n",
    "</body>  \n",
    "</html> "
   ]
  },
  {
   "cell_type": "code",
   "execution_count": 9,
   "metadata": {},
   "outputs": [
    {
     "name": "stdout",
     "output_type": "stream",
     "text": [
      " * Serving Flask app \"__main__\" (lazy loading)\n",
      " * Environment: production\n",
      "   WARNING: This is a development server. Do not use it in a production deployment.\n",
      "   Use a production WSGI server instead.\n",
      " * Debug mode: off\n"
     ]
    },
    {
     "name": "stderr",
     "output_type": "stream",
     "text": [
      " * Running on http://127.0.0.1:5000/ (Press CTRL+C to quit)\n",
      "127.0.0.1 - - [11/May/2020 11:03:05] \"\u001b[33mGET / HTTP/1.1\u001b[0m\" 404 -\n",
      "127.0.0.1 - - [11/May/2020 11:03:13] \"\u001b[33mGET /satwik HTTP/1.1\u001b[0m\" 404 -\n",
      "[2020-05-11 11:03:28,862] ERROR in app: Exception on /user/satwik [GET]\n",
      "Traceback (most recent call last):\n",
      "  File \"C:\\Users\\satwi\\anaconda3\\envs\\flask\\lib\\site-packages\\flask\\app.py\", line 2447, in wsgi_app\n",
      "    response = self.full_dispatch_request()\n",
      "  File \"C:\\Users\\satwi\\anaconda3\\envs\\flask\\lib\\site-packages\\flask\\app.py\", line 1952, in full_dispatch_request\n",
      "    rv = self.handle_user_exception(e)\n",
      "  File \"C:\\Users\\satwi\\anaconda3\\envs\\flask\\lib\\site-packages\\flask\\app.py\", line 1821, in handle_user_exception\n",
      "    reraise(exc_type, exc_value, tb)\n",
      "  File \"C:\\Users\\satwi\\anaconda3\\envs\\flask\\lib\\site-packages\\flask\\_compat.py\", line 39, in reraise\n",
      "    raise value\n",
      "  File \"C:\\Users\\satwi\\anaconda3\\envs\\flask\\lib\\site-packages\\flask\\app.py\", line 1950, in full_dispatch_request\n",
      "    rv = self.dispatch_request()\n",
      "  File \"C:\\Users\\satwi\\anaconda3\\envs\\flask\\lib\\site-packages\\flask\\app.py\", line 1936, in dispatch_request\n",
      "    return self.view_functions[rule.endpoint](**req.view_args)\n",
      "  File \"<ipython-input-9-8188c35c7389>\", line 6, in message\n",
      "    return render_template('message.html',name=uname)\n",
      "  File \"C:\\Users\\satwi\\anaconda3\\envs\\flask\\lib\\site-packages\\flask\\templating.py\", line 138, in render_template\n",
      "    ctx.app.jinja_env.get_or_select_template(template_name_or_list),\n",
      "  File \"C:\\Users\\satwi\\anaconda3\\envs\\flask\\lib\\site-packages\\jinja2\\environment.py\", line 930, in get_or_select_template\n",
      "    return self.get_template(template_name_or_list, parent, globals)\n",
      "  File \"C:\\Users\\satwi\\anaconda3\\envs\\flask\\lib\\site-packages\\jinja2\\environment.py\", line 883, in get_template\n",
      "    return self._load_template(name, self.make_globals(globals))\n",
      "  File \"C:\\Users\\satwi\\anaconda3\\envs\\flask\\lib\\site-packages\\jinja2\\environment.py\", line 857, in _load_template\n",
      "    template = self.loader.load(self, name, globals)\n",
      "  File \"C:\\Users\\satwi\\anaconda3\\envs\\flask\\lib\\site-packages\\jinja2\\loaders.py\", line 115, in load\n",
      "    source, filename, uptodate = self.get_source(environment, name)\n",
      "  File \"C:\\Users\\satwi\\anaconda3\\envs\\flask\\lib\\site-packages\\flask\\templating.py\", line 60, in get_source\n",
      "    return self._get_source_fast(environment, template)\n",
      "  File \"C:\\Users\\satwi\\anaconda3\\envs\\flask\\lib\\site-packages\\flask\\templating.py\", line 89, in _get_source_fast\n",
      "    raise TemplateNotFound(template)\n",
      "jinja2.exceptions.TemplateNotFound: message.html\n",
      "127.0.0.1 - - [11/May/2020 11:03:28] \"\u001b[35m\u001b[1mGET /user/satwik HTTP/1.1\u001b[0m\" 500 -\n"
     ]
    }
   ],
   "source": [
    "from flask import *  \n",
    "app = Flask(__name__)  \n",
    "  \n",
    "@app.route('/user/<uname>')  \n",
    "def message(uname):  \n",
    "      return render_template('message.html',name=uname)  \n",
    "if __name__ == '__main__':  \n",
    "   app.run(debug = False)"
   ]
  },
  {
   "cell_type": "markdown",
   "metadata": {},
   "source": [
    "### Embedding Python statements in HTML "
   ]
  },
  {
   "cell_type": "code",
   "execution_count": 11,
   "metadata": {},
   "outputs": [
    {
     "name": "stdout",
     "output_type": "stream",
     "text": [
      " * Serving Flask app \"__main__\" (lazy loading)\n",
      " * Environment: production\n",
      "   WARNING: This is a development server. Do not use it in a production deployment.\n",
      "   Use a production WSGI server instead.\n",
      " * Debug mode: off\n"
     ]
    },
    {
     "name": "stderr",
     "output_type": "stream",
     "text": [
      " * Running on http://127.0.0.1:5000/ (Press CTRL+C to quit)\n",
      "127.0.0.1 - - [11/May/2020 11:34:12] \"\u001b[33mGET / HTTP/1.1\u001b[0m\" 404 -\n",
      "127.0.0.1 - - [11/May/2020 11:34:21] \"\u001b[33mGET / HTTP/1.1\u001b[0m\" 404 -\n",
      "[2020-05-11 11:34:28,552] ERROR in app: Exception on /table/10 [GET]\n",
      "Traceback (most recent call last):\n",
      "  File \"C:\\Users\\satwi\\anaconda3\\envs\\flask\\lib\\site-packages\\flask\\app.py\", line 2447, in wsgi_app\n",
      "    response = self.full_dispatch_request()\n",
      "  File \"C:\\Users\\satwi\\anaconda3\\envs\\flask\\lib\\site-packages\\flask\\app.py\", line 1952, in full_dispatch_request\n",
      "    rv = self.handle_user_exception(e)\n",
      "  File \"C:\\Users\\satwi\\anaconda3\\envs\\flask\\lib\\site-packages\\flask\\app.py\", line 1821, in handle_user_exception\n",
      "    reraise(exc_type, exc_value, tb)\n",
      "  File \"C:\\Users\\satwi\\anaconda3\\envs\\flask\\lib\\site-packages\\flask\\_compat.py\", line 39, in reraise\n",
      "    raise value\n",
      "  File \"C:\\Users\\satwi\\anaconda3\\envs\\flask\\lib\\site-packages\\flask\\app.py\", line 1950, in full_dispatch_request\n",
      "    rv = self.dispatch_request()\n",
      "  File \"C:\\Users\\satwi\\anaconda3\\envs\\flask\\lib\\site-packages\\flask\\app.py\", line 1936, in dispatch_request\n",
      "    return self.view_functions[rule.endpoint](**req.view_args)\n",
      "  File \"<ipython-input-11-083ed116ab81>\", line 6, in table\n",
      "    return render_template('print-table.html',n=num)\n",
      "  File \"C:\\Users\\satwi\\anaconda3\\envs\\flask\\lib\\site-packages\\flask\\templating.py\", line 138, in render_template\n",
      "    ctx.app.jinja_env.get_or_select_template(template_name_or_list),\n",
      "  File \"C:\\Users\\satwi\\anaconda3\\envs\\flask\\lib\\site-packages\\jinja2\\environment.py\", line 930, in get_or_select_template\n",
      "    return self.get_template(template_name_or_list, parent, globals)\n",
      "  File \"C:\\Users\\satwi\\anaconda3\\envs\\flask\\lib\\site-packages\\jinja2\\environment.py\", line 883, in get_template\n",
      "    return self._load_template(name, self.make_globals(globals))\n",
      "  File \"C:\\Users\\satwi\\anaconda3\\envs\\flask\\lib\\site-packages\\jinja2\\environment.py\", line 857, in _load_template\n",
      "    template = self.loader.load(self, name, globals)\n",
      "  File \"C:\\Users\\satwi\\anaconda3\\envs\\flask\\lib\\site-packages\\jinja2\\loaders.py\", line 115, in load\n",
      "    source, filename, uptodate = self.get_source(environment, name)\n",
      "  File \"C:\\Users\\satwi\\anaconda3\\envs\\flask\\lib\\site-packages\\flask\\templating.py\", line 60, in get_source\n",
      "    return self._get_source_fast(environment, template)\n",
      "  File \"C:\\Users\\satwi\\anaconda3\\envs\\flask\\lib\\site-packages\\flask\\templating.py\", line 89, in _get_source_fast\n",
      "    raise TemplateNotFound(template)\n",
      "jinja2.exceptions.TemplateNotFound: print-table.html\n",
      "127.0.0.1 - - [11/May/2020 11:34:28] \"\u001b[35m\u001b[1mGET /table/10 HTTP/1.1\u001b[0m\" 500 -\n"
     ]
    }
   ],
   "source": [
    "from flask import *  \n",
    "app = Flask(__name__)  \n",
    "  \n",
    "@app.route('/table/<int:num>')  \n",
    "def table(num):  \n",
    "      return render_template('print-table.html',n=num)  \n",
    "if __name__ == '__main__':  \n",
    "   app.run(debug = False)  "
   ]
  },
  {
   "cell_type": "raw",
   "metadata": {},
   "source": [
    "#print-table.html\n",
    "\n",
    "<html>  \n",
    "<head>  \n",
    "<title>print table</title>  \n",
    "</head>  \n",
    "<body>  \n",
    "<h2> printing table of {{n}}</h2>  \n",
    "{% for i  in range(1,11): %}  \n",
    "    <h3>{{n}} X {{i}} = {{n * i}} </h3>  \n",
    "{% endfor %}  \n",
    "</body>  \n",
    "</html>  "
   ]
  },
  {
   "cell_type": "markdown",
   "metadata": {},
   "source": [
    "## Referring Static files in HTML "
   ]
  },
  {
   "cell_type": "markdown",
   "metadata": {},
   "source": [
    "\n",
    "The static files such as CSS or JavaScript file enhance the display of an HTML web page. A web server is configured to serve such files from the static folder in the package or the next to the module. The static files are available at the path /static of the application."
   ]
  },
  {
   "cell_type": "markdown",
   "metadata": {},
   "source": [
    "The flask script returns the HTML file, i.e., message.html which is styled using the stylesheet style.css. The flask template system finds the static CSS file under static/css directory. Hence the style.css is saved at the specified path."
   ]
  },
  {
   "cell_type": "code",
   "execution_count": 13,
   "metadata": {},
   "outputs": [
    {
     "name": "stdout",
     "output_type": "stream",
     "text": [
      " * Serving Flask app \"__main__\" (lazy loading)\n",
      " * Environment: production\n",
      "   WARNING: This is a development server. Do not use it in a production deployment.\n",
      "   Use a production WSGI server instead.\n",
      " * Debug mode: off\n"
     ]
    },
    {
     "name": "stderr",
     "output_type": "stream",
     "text": [
      " * Running on http://127.0.0.1:5000/ (Press CTRL+C to quit)\n"
     ]
    }
   ],
   "source": [
    "from flask import *  \n",
    "app = Flask(__name__)  \n",
    " \n",
    "@app.route('/')  \n",
    "def message():  \n",
    "      return render_template('message.html')  \n",
    "if __name__ == '__main__':  \n",
    "   app.run(debug = False)  "
   ]
  },
  {
   "cell_type": "raw",
   "metadata": {},
   "source": [
    "#message.html\n",
    "\n",
    "<html>  \n",
    "<head>  \n",
    "    <title>Message</title>  \n",
    "    <link rel=\"stylesheet\" href=\"{{ url_for('static', filename='css/style.css') }}\">  \n",
    "</head>  \n",
    "   \n",
    "<body>  \n",
    "    <h1>hi, welcome to the website</h1>  \n",
    "</body>  \n",
    "</html> "
   ]
  },
  {
   "cell_type": "raw",
   "metadata": {},
   "source": [
    "#style.css\n",
    "\n",
    "body {  \n",
    "  background-color: powderblue;  \n",
    "}  \n",
    "h1 {  \n",
    "  color: blue;  \n",
    "}  \n",
    "p {  \n",
    "  color: red;  \n",
    "}  "
   ]
  },
  {
   "cell_type": "code",
   "execution_count": null,
   "metadata": {},
   "outputs": [],
   "source": []
  }
 ],
 "metadata": {
  "kernelspec": {
   "display_name": "Python 3",
   "language": "python",
   "name": "python3"
  },
  "language_info": {
   "codemirror_mode": {
    "name": "ipython",
    "version": 3
   },
   "file_extension": ".py",
   "mimetype": "text/x-python",
   "name": "python",
   "nbconvert_exporter": "python",
   "pygments_lexer": "ipython3",
   "version": "3.6.10"
  }
 },
 "nbformat": 4,
 "nbformat_minor": 4
}
