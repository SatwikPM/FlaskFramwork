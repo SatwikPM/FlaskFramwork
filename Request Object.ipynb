{
 "cells": [
  {
   "cell_type": "markdown",
   "metadata": {},
   "source": [
    "# Flask Request Object "
   ]
  },
  {
   "cell_type": "markdown",
   "metadata": {},
   "source": [
    "In the client-server architecture, the request object contains all the data that is sent from the client to the server"
   ]
  },
  {
   "cell_type": "markdown",
   "metadata": {},
   "source": [
    "The data from a client’s web page is sent to the server as a global request object. In order to process the request data, it should be imported from the Flask module.\n",
    "Important attributes of request object are listed below −\n",
    "1. Form − It is a dictionary object containing key and value pairs of form parameters and their values.\n",
    "2. args − parsed contents of query string which is part of URL after question mark (?).\n",
    "3. Cookies − dictionary object holding Cookie names and values.\n",
    "4. files − data pertaining to uploaded file.\n",
    "5. method − current request method."
   ]
  },
  {
   "cell_type": "markdown",
   "metadata": {},
   "source": [
    "The data filled in this form is posted to the /success URL which triggers the print_data() function. The print_data() function collects all the data from the request object and renders the result_data.html file which shows all the data on the web page. \n",
    "The application contains three files, i.e., script.py, customer.html, and result_data.html."
   ]
  },
  {
   "cell_type": "code",
   "execution_count": null,
   "metadata": {},
   "outputs": [],
   "source": [
    "from flask import *  \n",
    "app = Flask(__name__)  \n",
    "  \n",
    "@app.route('/')  \n",
    "def customer():  \n",
    "   return render_template('customer.html')  \n",
    "  \n",
    "@app.route('/success',methods = ['POST', 'GET'])  \n",
    "def print_data():  \n",
    "   if request.method == 'POST':  \n",
    "      result = request.form  \n",
    "      return render_template(\"result_data.html\",result = result)  \n",
    "   \n",
    "if __name__ == '__main__':  \n",
    "   app.run(debug = False)  "
   ]
  },
  {
   "cell_type": "code",
   "execution_count": null,
   "metadata": {},
   "outputs": [],
   "source": [
    "#customer.html\n",
    "\n",
    "<html>  \n",
    "   <body>  \n",
    "       <h3>Register the customer, fill the following form.</h3>  \n",
    "      <form action = \"http://localhost:5000/success\" method = \"POST\">  \n",
    "         <p>Name <input type = \"text\" name = \"name\" /></p>  \n",
    "         <p>Email <input type = \"email\" name = \"email\" /></p>  \n",
    "         <p>Contact <input type = \"text\" name = \"contact\" /></p>  \n",
    "         <p>Pin code <input type =\"text\" name = \"pin\" /></p>  \n",
    "         <p><input type = \"submit\" value = \"submit\" /></p>  \n",
    "      </form>  \n",
    "   </body>  \n",
    "</html>  "
   ]
  },
  {
   "cell_type": "code",
   "execution_count": null,
   "metadata": {},
   "outputs": [],
   "source": [
    "#result_data.html\n",
    "\n",
    "<!doctype html>  \n",
    "<html>  \n",
    "   <body>  \n",
    "      <p><strong>Thanks for the registration. Confirm your details</strong></p>  \n",
    "      <table border = 1>  \n",
    "         {% for key, value in result.items() %}  \n",
    "            <tr>  \n",
    "               <th> {{ key }} </th>  \n",
    "               <td> {{ value }} </td>  \n",
    "            </tr>  \n",
    "         {% endfor %}  \n",
    "      </table>  \n",
    "   </body>  \n",
    "</html>  "
   ]
  },
  {
   "cell_type": "markdown",
   "metadata": {},
   "source": [
    "# Flask – Cookies"
   ]
  },
  {
   "cell_type": "markdown",
   "metadata": {},
   "source": [
    "\n",
    "A cookie is stored on a client’s computer in the form of a text file. Its purpose is to remember and track data pertaining to a client’s usage for better visitor experience and site statistics.\n",
    "A Request object contains a cookie’s attribute. It is a dictionary object of all the cookie variables and their corresponding values, a client has transmitted. In addition to it, a cookie also stores its expiry time, path and domain name of the site.\n",
    "In Flask, cookies are set on response object. Use make_response() function to get response object from return value of a view function. After that, use the set_cookie() function of response object to store a cookie.\n",
    "Reading back a cookie is easy. The get() method of request.cookies attribute is used to read a cookie."
   ]
  },
  {
   "cell_type": "markdown",
   "metadata": {},
   "source": [
    "Cookies are set by the server on the client's machine which will be associated with the client's request to that particular server in all future transactions until the lifetime of the cookie expires or it is deleted by the specific web page on the server. "
   ]
  },
  {
   "cell_type": "code",
   "execution_count": null,
   "metadata": {},
   "outputs": [],
   "source": [
    "from flask import *  \n",
    "  \n",
    "app = Flask(__name__)  \n",
    " \n",
    "@app.route('/cookie')  \n",
    "def cookie():  \n",
    "    res = make_response(\"<h1>cookie is set</h1>\")  \n",
    "    res.set_cookie('foo','bar')  \n",
    "    return res  \n",
    "  \n",
    "if __name__ == '__main__':  \n",
    "    app.run(debug = False)  "
   ]
  },
  {
   "cell_type": "markdown",
   "metadata": {},
   "source": [
    "### Login application in Flask "
   ]
  },
  {
   "cell_type": "code",
   "execution_count": null,
   "metadata": {},
   "outputs": [],
   "source": [
    "\n",
    "from flask import *  \n",
    "  \n",
    "app = Flask(__name__)  \n",
    " \n",
    "@app.route('/error')  \n",
    "def error():  \n",
    "    return \"<p><strong>Enter correct password</strong></p>\"  \n",
    " \n",
    "@app.route('/')  \n",
    "def login():  \n",
    "    return render_template(\"login.html\")  \n",
    " \n",
    "@app.route('/success',methods = ['POST'])  \n",
    "def success():  \n",
    "    if request.method == \"POST\":  \n",
    "        email = request.form['email']  \n",
    "        password = request.form['pass']  \n",
    "      \n",
    "    if password==\"jtp\":  \n",
    "        resp = make_response(render_template('success.html'))  \n",
    "        resp.set_cookie('email',email)  \n",
    "        return resp  \n",
    "    else:  \n",
    "        return redirect(url_for('error'))  \n",
    " \n",
    "@app.route('/viewprofile')  \n",
    "def profile():  \n",
    "    email = request.cookies.get('email')  \n",
    "    resp = make_response(render_template('profile.html',name = email))  \n",
    "    return resp  \n",
    "  \n",
    "if __name__ == \"__main__\":  \n",
    "    app.run(debug = False)  "
   ]
  },
  {
   "cell_type": "code",
   "execution_count": null,
   "metadata": {},
   "outputs": [],
   "source": [
    "#login.html\n",
    "\n",
    "<html>  \n",
    "<head>  \n",
    "    <title>login</title>  \n",
    "</head>  \n",
    "<body>  \n",
    "    <form method = \"post\" action = \"http://localhost:5000/success\">  \n",
    "        <table>  \n",
    "            <tr><td>Email</td><td><input type = 'email' name = 'email'></td></tr>  \n",
    "            <tr><td>Password</td><td><input type = 'password' name = 'pass'></td></tr>  \n",
    "            <tr><td><input type = \"submit\" value = \"Submit\"></td></tr>  \n",
    "        </table>  \n",
    "    </form>  \n",
    "</body>  \n",
    "</html>  "
   ]
  },
  {
   "cell_type": "code",
   "execution_count": null,
   "metadata": {},
   "outputs": [],
   "source": [
    "#success.html\n",
    "\n",
    "<html>  \n",
    "<head>  \n",
    "<title>success</title>  \n",
    "</head>  \n",
    "<body>  \n",
    "    <h2>Login successful</h2>  \n",
    "    <a href=\"/viewprofile\">View Profile</a>  \n",
    "</body>  \n",
    "</html>  "
   ]
  },
  {
   "cell_type": "code",
   "execution_count": null,
   "metadata": {},
   "outputs": [],
   "source": [
    "#profile.html \n",
    "\n",
    "<html>  \n",
    "<head>  \n",
    "    <title>profile</title>  \n",
    "</head>  \n",
    "<body>  \n",
    "    <h3>Hi, {{name}}</h3>  \n",
    "</body>  \n",
    "</html> "
   ]
  },
  {
   "cell_type": "code",
   "execution_count": null,
   "metadata": {},
   "outputs": [],
   "source": []
  }
 ],
 "metadata": {
  "kernelspec": {
   "display_name": "Python 3",
   "language": "python",
   "name": "python3"
  },
  "language_info": {
   "codemirror_mode": {
    "name": "ipython",
    "version": 3
   },
   "file_extension": ".py",
   "mimetype": "text/x-python",
   "name": "python",
   "nbconvert_exporter": "python",
   "pygments_lexer": "ipython3",
   "version": "3.6.10"
  }
 },
 "nbformat": 4,
 "nbformat_minor": 4
}
