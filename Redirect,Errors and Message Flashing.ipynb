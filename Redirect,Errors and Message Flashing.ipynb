{
 "cells": [
  {
   "cell_type": "markdown",
   "metadata": {},
   "source": [
    "# Redirect,Errors and Message Flashing"
   ]
  },
  {
   "cell_type": "markdown",
   "metadata": {},
   "source": [
    "Flask class has a redirect() function. When called, it returns a response object and redirects the user to another target location with specified status code."
   ]
  },
  {
   "cell_type": "markdown",
   "metadata": {},
   "source": [
    "Syntax: Flask.redirect(location, statuscode, response)"
   ]
  },
  {
   "cell_type": "markdown",
   "metadata": {},
   "source": [
    "In the above function −\n",
    "1. location parameter is the URL where response should be redirected.\n",
    "2. statuscode sent to browser’s header, defaults to 302.\n",
    "3. response parameter is used to instantiate response."
   ]
  },
  {
   "cell_type": "markdown",
   "metadata": {},
   "source": [
    "The following status codes are standardized −\n",
    "1. HTTP_300_MULTIPLE_CHOICES\n",
    "2. HTTP_301_MOVED_PERMANENTLY\n",
    "3. HTTP_302_FOUND\n",
    "4. HTTP_303_SEE_OTHER\n",
    "5. HTTP_304_NOT_MODIFIED\n",
    "6. HTTP_305_USE_PROXY\n",
    "7. HTTP_306_RESERVED\n",
    "8. HTTP_307_TEMPORARY_REDIRECT"
   ]
  },
  {
   "cell_type": "code",
   "execution_count": null,
   "metadata": {},
   "outputs": [],
   "source": [
    "from flask import *  \n",
    "app = Flask(__name__)  \n",
    " \n",
    "@app.route('/')  \n",
    "def home ():  \n",
    "    return render_template(\"home.html\")  \n",
    " \n",
    "@app.route('/login')  \n",
    "def login():  \n",
    "    return render_template(\"login.html\");  \n",
    " \n",
    "@app.route('/validate', methods = [\"POST\"])  \n",
    "def validate():  \n",
    "    if request.method == 'POST' and request.form['pass'] == 'jtp':  \n",
    "        return redirect(url_for(\"success\"))  \n",
    "    return redirect(url_for(\"login\"))  \n",
    " \n",
    "@app.route('/success')  \n",
    "def success():  \n",
    "    return \"logged in successfully\"  \n",
    "  \n",
    "if __name__ == '__main__':  \n",
    "    app.run(debug = False)  "
   ]
  },
  {
   "cell_type": "code",
   "execution_count": null,
   "metadata": {},
   "outputs": [],
   "source": [
    "#home.html\n",
    "\n",
    "<html>  \n",
    "<head>  \n",
    "<title>home</title>  \n",
    "</head>  \n",
    "<body>  \n",
    "<h3>Welcome to the website</h3>  \n",
    "<a href = \"/login\">login</a><br>  \n",
    "</html>  "
   ]
  },
  {
   "cell_type": "code",
   "execution_count": null,
   "metadata": {},
   "outputs": [],
   "source": [
    "#login.html \n",
    "\n",
    "<html>  \n",
    "<head>  \n",
    "    <title>login</title>  \n",
    "</head>  \n",
    "<body>  \n",
    "    <form method = \"post\" action = \"http://localhost:5000/validate\">  \n",
    "        <table>  \n",
    "            <tr><td>Email</td><td><input type = 'email' name = 'email'></td></tr>  \n",
    "            <tr><td>Password</td><td><input type = 'password' name = 'pass'></td></tr>  \n",
    "            <tr><td><input type = \"submit\" value = \"Submit\"></td></tr>  \n",
    "        </table>  \n",
    "    </form>  \n",
    "</body>  \n",
    "</html>  "
   ]
  },
  {
   "cell_type": "code",
   "execution_count": null,
   "metadata": {},
   "outputs": [],
   "source": [
    "#Example2\n",
    "\n",
    "from flask import Flask, redirect, url_for, render_template, request\n",
    "# Initialize the Flask application\n",
    "app = Flask(__name__)\n",
    "\n",
    "@app.route('/')\n",
    "def index():\n",
    "   return render_template('log_in.html')# file which we have created earlier \n",
    "\n",
    "@app.route('/login',methods = ['POST', 'GET']) \n",
    "def login(): \n",
    "   if request.method == 'POST' and request.form['username'] == 'admin' :\n",
    "      return redirect(url_for('success'))\n",
    "   else:\n",
    "      return redirect(url_for('index'))\n",
    "\n",
    "@app.route('/success')\n",
    "def success():\n",
    "   return 'logged in successfully'\n",
    "\t\n",
    "if __name__ == '__main__':\n",
    "   app.run(debug = False)"
   ]
  },
  {
   "cell_type": "markdown",
   "metadata": {},
   "source": [
    "# The abort() function"
   ]
  },
  {
   "cell_type": "markdown",
   "metadata": {},
   "source": [
    "\n",
    "The abort() function is used to handle the cases where the errors are involved in the requests from the client side, such as bad requests, unauthorized access and many more. However, the error code is to be mentioned due to which the error occurred. \n",
    "The syntax to use the abort() function is given below.\n",
    "\n",
    "Flask.abort(code)  "
   ]
  },
  {
   "cell_type": "markdown",
   "metadata": {},
   "source": [
    "We can mention the following error codes depending upon the specified errors. \n",
    "1. 400: for bad requests \n",
    "2. 401: for unauthorized access \n",
    "3. 403: for forbidden \n",
    "4. 404: for not found\n",
    "5. 406: for not acceptable\n",
    "6. 415: for unsupported media types\n",
    "7. 429: for too many requests"
   ]
  },
  {
   "cell_type": "code",
   "execution_count": null,
   "metadata": {},
   "outputs": [],
   "source": [
    "#Let's modify the script login.py from the above example and use the abort() function with the error code 401 (for unauthorized access)\n",
    "#in the case of any random password entered by the user.\n",
    "from flask import *  \n",
    "app = Flask(__name__)  \n",
    " \n",
    "@app.route('/')  \n",
    "def home ():  \n",
    "    return render_template(\"home.html\")  \n",
    " \n",
    "@app.route('/login')  \n",
    "def login():  \n",
    "    return render_template(\"login.html\");  \n",
    " \n",
    "@app.route('/validate', methods = [\"POST\"])  \n",
    "def validate():  \n",
    "    if request.method == 'POST' and request.form['pass'] == 'jtp':  \n",
    "        return redirect(url_for(\"success\"))  \n",
    "    else:  \n",
    "        abort(401)  \n",
    " \n",
    "@app.route('/success')  \n",
    "def success():  \n",
    "    return \"logged in successfully\"  \n",
    "  \n",
    "if __name__ == '__main__':  \n",
    "    app.run(debug = False)  "
   ]
  },
  {
   "cell_type": "markdown",
   "metadata": {},
   "source": [
    "Generating such informative messages is easy in Flask web application. Flashing system of Flask framework makes it possible to create a message in one view and render it in a view function called next.\n",
    "A Flask module contains flash() method. It passes a message to the next request, which generally is a template."
   ]
  },
  {
   "cell_type": "markdown",
   "metadata": {},
   "source": [
    "flash(message, category)\n",
    "Here,\n",
    "1. message: it is the message to be flashed to the user.\n",
    "2. Category: It is an optional parameter. Which may represent any error, information, or warning..\n",
    "In order to remove message from session, template calls get_flashed_messages()."
   ]
  },
  {
   "cell_type": "markdown",
   "metadata": {},
   "source": [
    "get_flashed_messages(with_categories, category_filter)"
   ]
  },
  {
   "cell_type": "markdown",
   "metadata": {},
   "source": [
    "Both parameters are optional. The first parameter is a tuple if received messages are having category. The second parameter is useful to display only specific messages.\n",
    "1. with_categories: This parameter is optional and used if the messages have the category.\n",
    "2. category_filter: This parameter is also optional. It is useful to display only the specified messages."
   ]
  },
  {
   "cell_type": "code",
   "execution_count": null,
   "metadata": {},
   "outputs": [],
   "source": [
    "from flask import *  \n",
    "app = Flask(__name__)  \n",
    "app.secret_key = \"abc\"  \n",
    " \n",
    "@app.route('/index')  \n",
    "def home():  \n",
    "    return render_template(\"index.html\")  \n",
    " \n",
    "@app.route('/login',methods = [\"GET\",\"POST\"])  \n",
    "def login():  \n",
    "    error = None;  \n",
    "    if request.method == \"POST\":  \n",
    "        if request.form['pass'] != 'jtp':  \n",
    "            error = \"invalid password\"  \n",
    "        else:  \n",
    "            flash(\"you are successfuly logged in\")  \n",
    "            return redirect(url_for('home'))  \n",
    "    return render_template('login.html',error=error)  \n",
    "  \n",
    "      \n",
    "if __name__ == '__main__':  \n",
    "    app.run(debug = False)  "
   ]
  },
  {
   "cell_type": "code",
   "execution_count": null,
   "metadata": {},
   "outputs": [],
   "source": [
    "#index.html\n",
    "\n",
    "<html>  \n",
    "<head>  \n",
    "<title>home</title>  \n",
    "</head>  \n",
    "<body>  \n",
    "    {% with messages = get_flashed_messages() %}  \n",
    "         {% if messages %}  \n",
    "               {% for message in messages %}  \n",
    "                    <p>{{ message }}</p>  \n",
    "               {% endfor %}  \n",
    "         {% endif %}  \n",
    "      {% endwith %}  \n",
    "<h3>Welcome to the website</h3>  \n",
    "<a href = \"{{ url_for('login') }}\">login</a>  \n",
    "</body>  \n",
    "</html>  "
   ]
  },
  {
   "cell_type": "code",
   "execution_count": null,
   "metadata": {},
   "outputs": [],
   "source": [
    "#login.html \n",
    "\n",
    "<html>  \n",
    "<head>  \n",
    "    <title>login</title>  \n",
    "</head>  \n",
    "<body>  \n",
    "    {% if error %}  \n",
    "        <p><strong>Error</strong>: {{error}}</p>  \n",
    "    {% endif %}  \n",
    "  \n",
    "    <form method = \"post\" action = \"/login\">  \n",
    "        <table>  \n",
    "            <tr><td>Email</td><td><input type = 'email' name = 'email'></td></tr>  \n",
    "            <tr><td>Password</td><td><input type = 'password' name = 'pass'></td></tr>  \n",
    "            <tr><td><input type = \"submit\" value = \"Submit\"></td></tr>  \n",
    "        </table>  \n",
    "    </form>  \n",
    "</body>  \n",
    "</html>  "
   ]
  },
  {
   "cell_type": "code",
   "execution_count": null,
   "metadata": {},
   "outputs": [],
   "source": []
  },
  {
   "cell_type": "code",
   "execution_count": null,
   "metadata": {},
   "outputs": [],
   "source": []
  },
  {
   "cell_type": "code",
   "execution_count": null,
   "metadata": {},
   "outputs": [],
   "source": []
  }
 ],
 "metadata": {
  "kernelspec": {
   "display_name": "Python 3",
   "language": "python",
   "name": "python3"
  },
  "language_info": {
   "codemirror_mode": {
    "name": "ipython",
    "version": 3
   },
   "file_extension": ".py",
   "mimetype": "text/x-python",
   "name": "python",
   "nbconvert_exporter": "python",
   "pygments_lexer": "ipython3",
   "version": "3.6.10"
  }
 },
 "nbformat": 4,
 "nbformat_minor": 4
}
