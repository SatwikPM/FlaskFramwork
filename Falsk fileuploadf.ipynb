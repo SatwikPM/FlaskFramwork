{
 "cells": [
  {
   "cell_type": "markdown",
   "metadata": {},
   "source": [
    "# Flask File Uploading"
   ]
  },
  {
   "cell_type": "markdown",
   "metadata": {},
   "source": [
    "File uploading is the process of transmitting the binary or normal files to the server. Flask facilitates us to upload the files easily. All we need to have an HTML form with the encryption set to multipart/form-data. "
   ]
  },
  {
   "cell_type": "markdown",
   "metadata": {},
   "source": [
    "Each uploaded file is first saved in a temporary location on the server, before it is actually saved to its ultimate location. Name of destination file can be hard-coded or can be obtained from filename property of request.files[file] object. However, it is recommended to obtain a secure version of it using the secure_filename() function."
   ]
  },
  {
   "cell_type": "markdown",
   "metadata": {},
   "source": [
    "app.config['UPLOAD_FOLDER']\n",
    "It is used to mention the upload folder."
   ]
  },
  {
   "cell_type": "markdown",
   "metadata": {},
   "source": [
    "app.config['MAX_CONTENT-PATH']\n",
    "It is used to mention the maximum size of the file to be uploaded."
   ]
  },
  {
   "cell_type": "code",
   "execution_count": null,
   "metadata": {},
   "outputs": [],
   "source": [
    "from flask import *  \n",
    "app = Flask(__name__)  \n",
    " \n",
    "@app.route('/')  \n",
    "def upload():  \n",
    "    return render_template(\"file_upload_form.html\")  \n",
    " \n",
    "@app.route('/success', methods = ['POST'])  \n",
    "def success():  \n",
    "    if request.method == 'POST':  \n",
    "        f = request.files['file']  \n",
    "        f.save(f.filename)  \n",
    "        return render_template(\"success.html\", name = f.filename)  \n",
    "  \n",
    "if __name__ == '__main__':  \n",
    "    app.run(debug = True)  "
   ]
  },
  {
   "cell_type": "raw",
   "metadata": {},
   "source": [
    "#file_upload_form.html \n",
    "\n",
    "<html>  \n",
    "<head>  \n",
    "    <title>upload</title>  \n",
    "</head>  \n",
    "<body>  \n",
    "    <form action = \"/success\" method = \"post\" enctype=\"multipart/form-data\">  \n",
    "        <input type=\"file\" name=\"file\" />  \n",
    "        <input type = \"submit\" value=\"Upload\">  \n",
    "    </form>  \n",
    "</body>  \n",
    "</html>  "
   ]
  },
  {
   "cell_type": "code",
   "execution_count": null,
   "metadata": {},
   "outputs": [],
   "source": [
    "#success.html \n",
    "\n",
    "<html>  \n",
    "<head>  \n",
    "<title>success</title>  \n",
    "</head>  \n",
    "<body>  \n",
    "<p>File uploaded successfully</p>  \n",
    "<p>File Name: {{name}}</p>  \n",
    "</body>  \n",
    "</html>  "
   ]
  },
  {
   "cell_type": "markdown",
   "metadata": {},
   "source": [
    "The following code has ‘/upload’ URL rule that displays ‘upload.html’ from the templates folder, and ‘/upload-file’ URL rule that calls uploader() function handling upload process.\n",
    "‘upload.html’ has a file chooser button and a submit button."
   ]
  },
  {
   "cell_type": "code",
   "execution_count": null,
   "metadata": {},
   "outputs": [],
   "source": [
    "<html>\n",
    "   <body>\n",
    "      <form action = \"http://localhost:5000/uploader\" method = \"POST\" \n",
    "         enctype = \"multipart/form-data\">\n",
    "         <input type = \"file\" name = \"file\" />\n",
    "         <input type = \"submit\"/>\n",
    "      </form>\n",
    "   </body>\n",
    "</html>"
   ]
  },
  {
   "cell_type": "code",
   "execution_count": null,
   "metadata": {},
   "outputs": [],
   "source": [
    "from flask import Flask, render_template, request\n",
    "from werkzeug import secure_filename\n",
    "app = Flask(__name__)\n",
    "\n",
    "@app.route('/upload')\n",
    "def upload_file():\n",
    "   return render_template('upload.html')\n",
    "\t\n",
    "@app.route('/uploader', methods = ['GET', 'POST'])\n",
    "def upload_file():\n",
    "   if request.method == 'POST':\n",
    "      f = request.files['file']\n",
    "      f.save(secure_filename(f.filename))\n",
    "      return 'file uploaded successfully'\n",
    "\t\t\n",
    "if __name__ == '__main__':\n",
    "   app.run(debug = False)"
   ]
  },
  {
   "cell_type": "code",
   "execution_count": null,
   "metadata": {},
   "outputs": [],
   "source": []
  },
  {
   "cell_type": "code",
   "execution_count": null,
   "metadata": {},
   "outputs": [],
   "source": []
  }
 ],
 "metadata": {
  "kernelspec": {
   "display_name": "Python 3",
   "language": "python",
   "name": "python3"
  },
  "language_info": {
   "codemirror_mode": {
    "name": "ipython",
    "version": 3
   },
   "file_extension": ".py",
   "mimetype": "text/x-python",
   "name": "python",
   "nbconvert_exporter": "python",
   "pygments_lexer": "ipython3",
   "version": "3.6.10"
  }
 },
 "nbformat": 4,
 "nbformat_minor": 4
}
