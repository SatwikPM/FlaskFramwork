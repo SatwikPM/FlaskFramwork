{
 "cells": [
  {
   "cell_type": "markdown",
   "metadata": {},
   "source": [
    "# Flask-Mail Extension"
   ]
  },
  {
   "cell_type": "markdown",
   "metadata": {},
   "source": [
    "There are several extensions to the flask like Mail, WTF, SQLite, SQLAlchemy, etc. which facilitates the developer to provide some basic facilities to the user."
   ]
  },
  {
   "cell_type": "markdown",
   "metadata": {},
   "source": [
    "Flask is often referred to as a micro framework, because a core functionality includes WSGI and routing based on Werkzeug and template engine based on Jinja2. In addition, Flask framework has support for cookie and sessions as well as web helpers like JSON, static files etc."
   ]
  },
  {
   "cell_type": "markdown",
   "metadata": {},
   "source": [
    " A Flask extension is a Python module, which adds specific type of support to the Flask application. Flask Extension Registry is a directory of extensions available. The required extension can be downloaded by pip utility.\n",
    "We will discuss the following important Flask extensions −\n",
    "1. Flask Mail − provides SMTP interface to Flask application\n",
    "2. Flask WTF − adds rendering and validation of WTForms\n",
    "3. Flask SQLAlchemy − adds SQLAlchemy support to Flask application\n",
    "4. Flask Sijax − Interface for Sijax - Python/jQuery library that makes AJAX easy to use in web applications"
   ]
  },
  {
   "cell_type": "markdown",
   "metadata": {},
   "source": [
    "Flask extensions are generally named as flask-foo. To import,"
   ]
  },
  {
   "cell_type": "markdown",
   "metadata": {},
   "source": [
    "Syntax:\n",
    "1. from flask_foo import [class, function]\n",
    "       For versions of Flask later than 0.7, you can also use the syntax −\n",
    "2. from flask.ext import foo"
   ]
  },
  {
   "cell_type": "raw",
   "metadata": {},
   "source": [
    "For this usage, a compatibility module needs to be activated. It can be installed by running flaskext_compat.py\n",
    "import flaskext_compat\n",
    "flaskext_compat.activate()\n",
    "from flask.ext import foo"
   ]
  },
  {
   "cell_type": "code",
   "execution_count": 2,
   "metadata": {},
   "outputs": [],
   "source": [
    "# pip install Flask-Mail"
   ]
  },
  {
   "cell_type": "markdown",
   "metadata": {},
   "source": [
    "The application must configure the flask-mail for the following parameters."
   ]
  },
  {
   "cell_type": "markdown",
   "metadata": {},
   "source": [
    "MAIL_SERVER\n",
    "It represents the name or IP address of the email server. The default is localhost.\n",
    "\n",
    "MAIL_PORT\n",
    "It represents the port number of the server. Default port number is 25.\n",
    "\n",
    "MAIL_USE_TLS\n",
    "It is used to enable or disable the transport security layer description. The default is false.\n",
    "\n",
    "MAIL_USE_SSL\n",
    "It is used to enable or disable the secure socket layer description. The default value is false.\n",
    "\n",
    "MAIL_DEBUG\n",
    "It is used to provide the debug support to the mail application. The default value is None.\n",
    "\n",
    "MAIL_USERNAME\n",
    "It represents the user name of the sender. The default value is None.\n",
    "\n",
    "MAIL_PASSWORD\n",
    "It represents the password of the server email id. The default value is None.\n",
    "\n",
    "MAIL_DEFAULT_SENDER\n",
    "It is used to set the default sender id for the multiple emails. The default value is None.\n",
    "\n",
    "MAIL_MAX_EMAILS\n",
    "It is used to set the maximum number of email to be sent. The default value is None.\n",
    "\n",
    "MAIL_SUPPRESS_SEND\n",
    "Sending the mail is suppressed if the app.testing is set to the true.\n",
    "\n",
    "MAIL_ASCII_ATTACHMENTS\n",
    "If it is set to true, attached file names are converted to ASCII. The default is False."
   ]
  },
  {
   "cell_type": "markdown",
   "metadata": {},
   "source": [
    "### Flask-Mail Module Classes "
   ]
  },
  {
   "cell_type": "markdown",
   "metadata": {},
   "source": [
    "There are several classes which are important to send emails using the python flask web application"
   ]
  },
  {
   "cell_type": "markdown",
   "metadata": {},
   "source": [
    "\n",
    "    The Message class binds the email message into the one simple Message class instance so that the important methods like attach() can be called on this instance. The syntax to instantiate the Message class is given below. \n",
    "\n",
    "    Flask-mail.Message(subject, recipients, body, html, sender, cc, bcc, reply-to, date, charset, extra-headers, mail-options, rcpt_options)  "
   ]
  },
  {
   "cell_type": "markdown",
   "metadata": {},
   "source": [
    "There are the following methods that can be called on the Message class object. \n",
    "1. attach(filename, content_type, data, disposition): this method is used to send the attachments with the message. This method accepts the name of the file, MIME type of file, raw file data, and the content disposition.\n",
    "\n",
    "2. add_recipient(): It is used to add the recipient to the message."
   ]
  },
  {
   "cell_type": "markdown",
   "metadata": {},
   "source": [
    "### Mail Class "
   ]
  },
  {
   "cell_type": "markdown",
   "metadata": {},
   "source": [
    "\n",
    "Mail class object is used to send the email. The Mail class is instantiated by passing the application object to the Mail class constructor as given below.\n",
    "\n",
    "Flask-mail.Mail(app=None)   "
   ]
  },
  {
   "cell_type": "markdown",
   "metadata": {},
   "source": [
    "The Mail class contains the following methods. \n",
    "1. send(): It sends the message object content to the recipient. \n",
    "2. connect(): It is used to open the connection with mail host. \n",
    "3. send_message(): It is used to send the message object."
   ]
  },
  {
   "cell_type": "markdown",
   "metadata": {},
   "source": [
    "### Process of sending email using flask web application "
   ]
  },
  {
   "cell_type": "code",
   "execution_count": null,
   "metadata": {},
   "outputs": [],
   "source": []
  }
 ],
 "metadata": {
  "kernelspec": {
   "display_name": "Python 3",
   "language": "python",
   "name": "python3"
  },
  "language_info": {
   "codemirror_mode": {
    "name": "ipython",
    "version": 3
   },
   "file_extension": ".py",
   "mimetype": "text/x-python",
   "name": "python",
   "nbconvert_exporter": "python",
   "pygments_lexer": "ipython3",
   "version": "3.6.10"
  }
 },
 "nbformat": 4,
 "nbformat_minor": 4
}
